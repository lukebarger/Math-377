{
 "cells": [
  {
   "cell_type": "code",
   "execution_count": 1,
   "metadata": {},
   "outputs": [],
   "source": [
    "from datascience import *\n",
    "import numpy as np\n",
    "from math import *\n",
    "from scipy import stats\n",
    "import matplotlib.pyplot as plt\n",
    "%matplotlib inline"
   ]
  },
  {
   "cell_type": "markdown",
   "metadata": {},
   "source": [
    "## Lesson 23: Hypothesis Testing, Continued"
   ]
  },
  {
   "cell_type": "markdown",
   "metadata": {},
   "source": [
    "Recall in Lesson 22, we covered hypothesis testing. The structure of a hypothesis test is largely similar regardless of the context of the problem. We state the hypotheses, decide on a test statistic, calculate the $p$-value and reach a conclusion. To calculate a $p$-value, we need to find the distribution of the test statistic under the null hypothesis. "
   ]
  },
  {
   "cell_type": "markdown",
   "metadata": {},
   "source": [
    "### Example 1: The Lady Tasting Tea\n",
    "\n",
    "The \"lady tasting tea\" problem is a now famous story during which, at a gathering one summer afternoon in Cambridge, some friends drank tea with milk. Among them, a woman claimed to be able to tell, based on taste, whether the milk or the tea was added first to the cup. A now famous statistician, Ronald Fisher, was at the gathering, and he studied the claim. The woman was offered 8 cups of tea mixed with milk (4 with milk added first and 4 with tea added first) and she successfully identified 6 (3 of each). What can we say about her ability to discriminate the teas? "
   ]
  },
  {
   "cell_type": "markdown",
   "metadata": {},
   "source": [
    "Step 1: State the null and alternate hypothesis\n",
    "\n",
    "$H_0$: The probability that she can guess correctly is 0.5 (can't predict beyond randomness given that she knew there were 4 of each in the population)  \n",
    "$H_1$: She can predict beyond randomness"
   ]
  },
  {
   "cell_type": "markdown",
   "metadata": {},
   "source": [
    "Step 2: Define a test statistic\n",
    "\n",
    "$X$: number of times she correctly picked tea first  \n",
    "If we know that, we know everything else - how many times she correctly picked milk first, number wrong, etc\n",
    "\n",
    "In this test $X_{obs}=3$\n",
    "\n",
    "This problem has a hypergeometric distribution (binomial without replacement).\n",
    "\n",
    "$X$~hypergeom($M=8, n=4, N=4$)\n"
   ]
  },
  {
   "cell_type": "markdown",
   "metadata": {},
   "source": [
    "Step 3: Calculate the $p$-value by finding the distribution of test statistic under $H_0$.\n",
    "\n"
   ]
  },
  {
   "cell_type": "code",
   "execution_count": 3,
   "metadata": {},
   "outputs": [],
   "source": [
    "M, n, N = 8, 4, 4\n",
    "sample=stats.hypergeom.rvs(M,n,N,size=10000)"
   ]
  },
  {
   "cell_type": "code",
   "execution_count": 4,
   "metadata": {},
   "outputs": [
    {
     "name": "stdout",
     "output_type": "stream",
     "text": [
      "The p-score is 0.2448\n"
     ]
    }
   ],
   "source": [
    "# the p-score is the probabilty of getting the observed test statistic or a more extreme value under the null hypothesis\n",
    "# Here that means the probability of getting X>3\n",
    "p_hg = np.mean(sample>=3)\n",
    "print(\"The p-score is\",p_hg)"
   ]
  },
  {
   "cell_type": "markdown",
   "metadata": {},
   "source": [
    "Step 4: Conclude  \n",
    "\n",
    "This p-score is not very low, meaning it is not that uncommon to get 3 or more correct under random chance/guessing.  So we fail to reject the null hypothesis, and have not proved that she can actually tell the difference."
   ]
  },
  {
   "cell_type": "markdown",
   "metadata": {},
   "source": [
    "### Example 2: iris dataset\n",
    "\n",
    "The `iris` dataset is common in introductory statistics. It shows various characteristics of three different species of irises. Let's determine whether the virginica species has a larger mean sepal width than that of versicolor. "
   ]
  },
  {
   "cell_type": "code",
   "execution_count": 40,
   "metadata": {},
   "outputs": [
    {
     "data": {
      "text/html": [
       "<table border=\"1\" class=\"dataframe\">\n",
       "    <thead>\n",
       "        <tr>\n",
       "            <th>species</th> <th>sepal_length mean</th> <th>sepal_width mean</th> <th>petal_length mean</th> <th>petal_width mean</th>\n",
       "        </tr>\n",
       "    </thead>\n",
       "    <tbody>\n",
       "        <tr>\n",
       "            <td>setosa    </td> <td>5.006            </td> <td>3.418           </td> <td>1.464            </td> <td>0.244           </td>\n",
       "        </tr>\n",
       "        <tr>\n",
       "            <td>versicolor</td> <td>5.936            </td> <td>2.77            </td> <td>4.26             </td> <td>1.326           </td>\n",
       "        </tr>\n",
       "        <tr>\n",
       "            <td>virginica </td> <td>6.588            </td> <td>2.974           </td> <td>5.552            </td> <td>2.026           </td>\n",
       "        </tr>\n",
       "    </tbody>\n",
       "</table>"
      ],
      "text/plain": [
       "species    | sepal_length mean | sepal_width mean | petal_length mean | petal_width mean\n",
       "setosa     | 5.006             | 3.418            | 1.464             | 0.244\n",
       "versicolor | 5.936             | 2.77             | 4.26              | 1.326\n",
       "virginica  | 6.588             | 2.974            | 5.552             | 2.026"
      ]
     },
     "execution_count": 40,
     "metadata": {},
     "output_type": "execute_result"
    }
   ],
   "source": [
    "iris=Table().read_table(\"iris.csv\")\n",
    "iris.group(4,np.mean)"
   ]
  },
  {
   "cell_type": "markdown",
   "metadata": {},
   "source": [
    "Step 1: State the null and alternate hypothesis\n",
    "\n",
    "$H_0$: virginica has the same mean sepal width as versicolor  \n",
    "$H_1$: verginica has a larger mean sepal width than versicolor"
   ]
  },
  {
   "cell_type": "markdown",
   "metadata": {},
   "source": [
    "Step 2: Define a test statistic\n",
    "\n",
    "$X$ is the difference in mean sepal length of virginica and versicolor"
   ]
  },
  {
   "cell_type": "markdown",
   "metadata": {},
   "source": [
    "Step 3: Calculate the $p$-value by finding the distribution of test statistic under $H_0$.\n",
    "\n",
    "Here we do not know what the distribution is.  We will use a permutation test to decide how likely the observed test statistic is (assuming it's due to random chance) by reassigning the data to the classes (here of flowers) and calculating $X$."
   ]
  },
  {
   "cell_type": "code",
   "execution_count": 9,
   "metadata": {},
   "outputs": [
    {
     "data": {
      "text/plain": [
       "0.20399999999999974"
      ]
     },
     "execution_count": 9,
     "metadata": {},
     "output_type": "execute_result"
    }
   ],
   "source": [
    "# first calculate the observed test statistic\n",
    "iris_sub=iris.select(4,1).where(0,are.not_containing('setosa'))\n",
    "obs=np.diff(iris_sub.group(0,np.mean).column(1))[0]\n",
    "obs"
   ]
  },
  {
   "cell_type": "code",
   "execution_count": 39,
   "metadata": {},
   "outputs": [
    {
     "data": {
      "text/html": [
       "<table border=\"1\" class=\"dataframe\">\n",
       "    <thead>\n",
       "        <tr>\n",
       "            <th>species</th> <th>sepal_width mean</th> <th>Shuffled sepal_width mean</th>\n",
       "        </tr>\n",
       "    </thead>\n",
       "    <tbody>\n",
       "        <tr>\n",
       "            <td>versicolor</td> <td>2.77            </td> <td>2.88                     </td>\n",
       "        </tr>\n",
       "        <tr>\n",
       "            <td>virginica </td> <td>2.974           </td> <td>2.864                    </td>\n",
       "        </tr>\n",
       "    </tbody>\n",
       "</table>"
      ],
      "text/plain": [
       "<IPython.core.display.HTML object>"
      ]
     },
     "metadata": {},
     "output_type": "display_data"
    },
    {
     "name": "stdout",
     "output_type": "stream",
     "text": [
      "The original mean difference is 0.20399999999999974\n",
      "The shuffled mean difference is -0.016000000000000014\n"
     ]
    }
   ],
   "source": [
    "# shuffle once to get the process\n",
    "shuffled_widths = iris_sub_with_resamp = iris_sub.sample(with_replacement=False).column(1)\n",
    "iris_sub_with_shuffle = iris_sub.with_column(\"Shuffled sepal_width\",shuffled_widths)\n",
    "iris_sub_with_shuffle.group(0,np.mean).show()\n",
    "# first make sure our nonshuffled data is the same\n",
    "print(\"The original mean difference is\",np.diff(iris_sub_with_shuffle.group(0,np.mean).column(1))[0])\n",
    "# calculate X for the shuffled data\n",
    "this_X = np.diff(iris_sub_with_shuffle.group(0,np.mean).column(2))[0]\n",
    "print(\"The shuffled mean difference is\",this_X)"
   ]
  },
  {
   "cell_type": "code",
   "execution_count": 33,
   "metadata": {},
   "outputs": [],
   "source": [
    "# now repeat for multiple shuffles\n",
    "trials = 5000\n",
    "X_resamp = []\n",
    "for _ in np.arange(trials):\n",
    "    # we resample by changing the species at random\n",
    "    shuffled_widths = iris_sub_with_resamp = iris_sub.sample(with_replacement=False).column(1)\n",
    "    iris_sub_with_shuffle = iris_sub.with_column(\"Shuffled sepal_width\",shuffled_widths)\n",
    "    iris_sub_with_shuffle.group(0,np.mean)\n",
    "    this_X = np.diff(iris_sub_with_shuffle.group(0,np.mean).column(2))[0]\n",
    "    X_resamp = np.append(X_resamp,this_X)"
   ]
  },
  {
   "cell_type": "code",
   "execution_count": 36,
   "metadata": {},
   "outputs": [
    {
     "name": "stdout",
     "output_type": "stream",
     "text": [
      "The p-value is 0.0008\n"
     ]
    }
   ],
   "source": [
    "# calculate the p-value\n",
    "p_iris = np.mean(X_resamp>=obs)\n",
    "print(\"The p-value is\",p_iris)"
   ]
  },
  {
   "cell_type": "markdown",
   "metadata": {},
   "source": [
    "Step 4: Conclude\n",
    "\n",
    "This $p$-score is quite low leading us to reject $H_0$ and conclude that there the mean spal length of virginica is larger than that of versicolor"
   ]
  },
  {
   "cell_type": "code",
   "execution_count": null,
   "metadata": {},
   "outputs": [],
   "source": []
  }
 ],
 "metadata": {
  "kernelspec": {
   "display_name": "Python 3",
   "language": "python",
   "name": "python3"
  },
  "language_info": {
   "codemirror_mode": {
    "name": "ipython",
    "version": 3
   },
   "file_extension": ".py",
   "mimetype": "text/x-python",
   "name": "python",
   "nbconvert_exporter": "python",
   "pygments_lexer": "ipython3",
   "version": "3.6.5"
  }
 },
 "nbformat": 4,
 "nbformat_minor": 2
}
