{
 "cells": [
  {
   "cell_type": "markdown",
   "metadata": {},
   "source": [
    "### Math 377 - Lesson 2 - Barger"
   ]
  },
  {
   "cell_type": "markdown",
   "metadata": {},
   "source": [
    "*Define Data Science.  How do you think you will use Data Science in your career?*"
   ]
  },
  {
   "cell_type": "markdown",
   "metadata": {},
   "source": [
    "Data science is a discipline that combines math, computer science, and domain expertise to work with data.  Some of the major areas of emphasis are data visualization and observing patterns in data.  Based on these patterns data scientists can make inferences about what is going on in the data, that is, what is causing the patterns.  Next the data scientists can try to make predictions based on the underlying models developed from the patterns in the data, for example employing regression or ther machine learning techniques.\n",
    "\n",
    "In my career data science has a lot to offer in making sense of intelligence data gathered from multiple disperate sources and infering and predicting threats based on observed activities.  The models of behavior and what constitues indications and warnings are themselves built using data science techniques."
   ]
  },
  {
   "cell_type": "markdown",
   "metadata": {},
   "source": [
    "*What are the three focus areas in this course?*"
   ]
  },
  {
   "cell_type": "markdown",
   "metadata": {},
   "source": [
    "The three focus areas are:\n",
    "1. Exploration - input, manipulate, summarize and visualize data\n",
    "2. Inference - draw conclusions about populations based on sampled data\n",
    "3. Prediction - make sound predictions based on collected data"
   ]
  },
  {
   "cell_type": "markdown",
   "metadata": {},
   "source": [
    "*Do at least 3 basic calculations in three spearate boxes*"
   ]
  },
  {
   "cell_type": "code",
   "execution_count": 2,
   "metadata": {},
   "outputs": [
    {
     "data": {
      "text/plain": [
       "7"
      ]
     },
     "execution_count": 2,
     "metadata": {},
     "output_type": "execute_result"
    }
   ],
   "source": [
    "3+4"
   ]
  },
  {
   "cell_type": "code",
   "execution_count": 3,
   "metadata": {},
   "outputs": [
    {
     "data": {
      "text/plain": [
       "72"
      ]
     },
     "execution_count": 3,
     "metadata": {},
     "output_type": "execute_result"
    }
   ],
   "source": [
    "9*8"
   ]
  },
  {
   "cell_type": "code",
   "execution_count": 17,
   "metadata": {},
   "outputs": [
    {
     "data": {
      "text/plain": [
       "1000"
      ]
     },
     "execution_count": 17,
     "metadata": {},
     "output_type": "execute_result"
    }
   ],
   "source": [
    "10**3"
   ]
  },
  {
   "cell_type": "markdown",
   "metadata": {},
   "source": [
    "*In another box, use python code to print your name followed by a \"thumbs up\" sign*"
   ]
  },
  {
   "cell_type": "code",
   "execution_count": 102,
   "metadata": {},
   "outputs": [
    {
     "name": "stdout",
     "output_type": "stream",
     "text": [
      "Luke Barger  👍\n"
     ]
    }
   ],
   "source": [
    "print(\"Luke Barger \", \"\\N{THUMBS UP SIGN}\")"
   ]
  },
  {
   "cell_type": "markdown",
   "metadata": {},
   "source": [
    "Correlation is not causation.  There may be confounding variables or other issues with making that inference."
   ]
  },
  {
   "cell_type": "markdown",
   "metadata": {},
   "source": [
    "An observational study merely looks and records what is.  An experiment involves introducing a treatment to a portion of the population and observing if there are differences relative to a control group that does not recieve the treatment."
   ]
  },
  {
   "cell_type": "code",
   "execution_count": null,
   "metadata": {},
   "outputs": [],
   "source": []
  }
 ],
 "metadata": {
  "kernelspec": {
   "display_name": "Python 3",
   "language": "python",
   "name": "python3"
  },
  "language_info": {
   "codemirror_mode": {
    "name": "ipython",
    "version": 3
   },
   "file_extension": ".py",
   "mimetype": "text/x-python",
   "name": "python",
   "nbconvert_exporter": "python",
   "pygments_lexer": "ipython3",
   "version": "3.6.5"
  }
 },
 "nbformat": 4,
 "nbformat_minor": 2
}
