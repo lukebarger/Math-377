{
 "cells": [
  {
   "cell_type": "code",
   "execution_count": 1,
   "metadata": {},
   "outputs": [],
   "source": [
    "from datascience import *\n",
    "import numpy as np\n",
    "from math import *\n",
    "from scipy import stats\n",
    "import matplotlib.pyplot as plt\n",
    "%matplotlib inline"
   ]
  },
  {
   "cell_type": "markdown",
   "metadata": {},
   "source": [
    "## Hypothesis Testing"
   ]
  },
  {
   "cell_type": "markdown",
   "metadata": {},
   "source": [
    "In Data8.2x, you have been using simulation to conduct hypothesis testing. Now that we have completed Data8.2x, this is a good time to take a step back and reflect on hypothesis testing. \n",
    "\n",
    "Every hypothesis test has roughly the same structure. The following 4 steps provide a rough outline:\n",
    "\n",
    "1) State the null and alternate hypotheses. Generally, the alternate hypothesis is what you are trying to show. Essentially, if you want to show a result, we assume the opposite is true and try to prove ourselves wrong. \n",
    "\n",
    "2) Determine/calculate a test statistic. See your book for a formal definition, but generally, the test statistic is any quantity that helps us evaluate our sample with respect to our null hypothesis. \n",
    "\n",
    "3) Determine distribution of test statistic and compute a $p$-value. If you have taken inferential statistics before, you likely computed a $z$ or $t$ statistic and used a calculator or table to compute a $p$-value. This is based on asymptotic theory of sample means/proportions. This is not the approach taken in Data8.2x. With better computing power, we can use simulation to obtain an empirical distribution of our test statistic under the null hypothesis. \n",
    "\n",
    "4) Conclude. For low $p$-value (generally below 0.05), we reject the null hypothesis. For high $p$-value, we fail to reject. Low $p$-value implies that our sample would be very unusual if the null hypothesis were actually true. Therefore, that is evidence that the null hypothesis is wrong. "
   ]
  },
  {
   "cell_type": "markdown",
   "metadata": {},
   "source": [
    "### Example\n",
    "\n",
    "Let's work through an example. Suppose that in the upcoming election, Referendum A is up for approval in Colorado. You suspect that in El Paso County, more than half of eligible voters support the referendum. You collect a random sample of 200 eligible voters in El Paso County and 115 of them express support. Is there evidence to conclude that supports your suspicion? "
   ]
  },
  {
   "cell_type": "markdown",
   "metadata": {},
   "source": [
    "#### Step 1: Hypothesis\n",
    "\n",
    "State the null and alternative hypotheses."
   ]
  },
  {
   "cell_type": "markdown",
   "metadata": {},
   "source": [
    "$H_0$: There are an equal number of supporters and nonsupporters.  So for any given person the chance they will support is a fair coin flip.  \n",
    "$H_1$: There are an unqual number of supporters and nonsupporters."
   ]
  },
  {
   "cell_type": "markdown",
   "metadata": {},
   "source": [
    "#### Step 2: Test Statistic"
   ]
  },
  {
   "cell_type": "markdown",
   "metadata": {},
   "source": [
    "Select a test statistic and compute that test statistic for the sample."
   ]
  },
  {
   "cell_type": "markdown",
   "metadata": {},
   "source": [
    "The test statistic will be the distance $(abs())$ between the number of supports and the value expected under null, which is half (100 for a sample size of 200)"
   ]
  },
  {
   "cell_type": "code",
   "execution_count": 43,
   "metadata": {},
   "outputs": [
    {
     "name": "stdout",
     "output_type": "stream",
     "text": [
      "The test statistic for this sample is 15\n"
     ]
    }
   ],
   "source": [
    "obs_supts = 115\n",
    "exp_supts = 100\n",
    "obs_test_statistic = abs(obs_supts-exp_supts)\n",
    "print(\"The test statistic for this sample is\",obs_test_statistic)"
   ]
  },
  {
   "cell_type": "markdown",
   "metadata": {},
   "source": [
    "#### Step 3: $p$-value\n",
    "\n",
    "3a) If $H_0$ were true, what should the value of $\\hat{p}$ be close to? In other words, if in fact, half of eligible voters support the referendum, what value should your test statistic take? "
   ]
  },
  {
   "cell_type": "markdown",
   "metadata": {},
   "source": [
    "Under the $H_0$ the test statistic should be $0$."
   ]
  },
  {
   "cell_type": "markdown",
   "metadata": {},
   "source": [
    "3b) In words (and in the context of this problem), describe what the $p$-value is. "
   ]
  },
  {
   "cell_type": "markdown",
   "metadata": {},
   "source": [
    "The $p-$value is the likelihood that the number of voters that support Referendum A in our sample is due to random chance drawing from a population that actually has an equal number of supporters and nonsupporters."
   ]
  },
  {
   "cell_type": "markdown",
   "metadata": {},
   "source": [
    "3c) Find the $p$-value directly and using simulation. Hint: the binomial distribution will be of use here. "
   ]
  },
  {
   "cell_type": "code",
   "execution_count": 82,
   "metadata": {},
   "outputs": [
    {
     "data": {
      "text/plain": [
       "0.03408129942316154"
      ]
     },
     "execution_count": 82,
     "metadata": {},
     "output_type": "execute_result"
    }
   ],
   "source": [
    "# we will use the scipy binomial distribution ...\n",
    "# ... first to directly calculate the p-value ...\n",
    "# we will call \"successes supporters\" and \"failures\" nonsupporters.  Under null they are equally likely, so p=0.5\n",
    "# the p-score is the chance of getting a more extreme event, or a test score higher than what was observed (15).\n",
    "# this is the same as the likelihood of observing more than 115 success or fewer than 85 success in 200 trials\n",
    "\n",
    "stats.binom.cdf(85,200,0.5)+stats.binom.sf(115,200,0.5)"
   ]
  },
  {
   "cell_type": "code",
   "execution_count": 94,
   "metadata": {},
   "outputs": [
    {
     "name": "stdout",
     "output_type": "stream",
     "text": [
      "The p-score is 0.0306\n"
     ]
    }
   ],
   "source": [
    "# ... then to simulate drawing some random samples.\n",
    "\n",
    "# simulate it 'trials' times\n",
    "trials = 10000\n",
    "bi_statistics = np.array([])\n",
    "for _ in np.arange(trials):\n",
    "    bi_sample = stats.binom.rvs(200,0.5)\n",
    "    this_statistic = abs(bi_sample-exp_supts)\n",
    "    bi_statistics = np.append(bi_statistics,this_statistic)\n",
    "# find the p-score as the % that are farther away than the observed statistic\n",
    "this_p = np.mean(bi_statistics>obs_test_statistic)\n",
    "print(\"The p-score is\",this_p)"
   ]
  },
  {
   "cell_type": "markdown",
   "metadata": {},
   "source": [
    "#### Step 4: Conclude\n",
    "\n",
    "What is your conclusion? Be sure to state your conclusion in the context of the problem."
   ]
  },
  {
   "cell_type": "markdown",
   "metadata": {},
   "source": [
    "We reject the null hypothesis, and believe there is not an equal number of supports and nonsupporters for Referendum A.  "
   ]
  },
  {
   "cell_type": "markdown",
   "metadata": {},
   "source": [
    "## Confidence Intervals"
   ]
  },
  {
   "cell_type": "markdown",
   "metadata": {},
   "source": [
    "Construct and interpret a 95% confidence interval on $p$, the true proportion of eligible El Paso County voters who support the referendum. There are many ways to construct such an interval (bootstrap, the binomial distribution, asymptotically). Select one and implement. \n",
    "\n",
    "Also, compare your interval to the results of your hypothesis test. Does your interval contain the value 0.5? Why does that matter? "
   ]
  },
  {
   "cell_type": "code",
   "execution_count": 112,
   "metadata": {},
   "outputs": [],
   "source": [
    "# first create the observed sample\n",
    "observed_samp = Table().with_column(\"Supporters\",np.append(np.ones(obs_supts),np.zeros(200-obs_supts)))\n",
    "\n",
    "# bootstrap\n",
    "repeat = 500\n",
    "ps=[]\n",
    "for _ in np.arange(repeat):\n",
    "    this_resample = observed_samp.sample()\n",
    "    this_proportion = np.mean(this_resample.column(0))\n",
    "    ps = np.append(ps,this_proportion)"
   ]
  },
  {
   "cell_type": "code",
   "execution_count": 113,
   "metadata": {},
   "outputs": [
    {
     "name": "stderr",
     "output_type": "stream",
     "text": [
      "D:\\Anaconda\\lib\\site-packages\\matplotlib\\axes\\_axes.py:6462: UserWarning: The 'normed' kwarg is deprecated, and has been replaced by the 'density' kwarg.\n",
      "  warnings.warn(\"The 'normed' kwarg is deprecated, and has been \"\n"
     ]
    },
    {
     "data": {
      "image/png": "[encoded data removed]",
      "text/plain": [
       "<Figure size 432x288 with 1 Axes>"
      ]
     },
     "metadata": {},
     "output_type": "display_data"
    }
   ],
   "source": [
    "# plot\n",
    "Table().with_column(\"Resample proportions\",ps).hist()"
   ]
  },
  {
   "cell_type": "code",
   "execution_count": 114,
   "metadata": {},
   "outputs": [
    {
     "name": "stdout",
     "output_type": "stream",
     "text": [
      "The 95% confidence interval is [ 0.51 0.645 ]\n"
     ]
    }
   ],
   "source": [
    "left_95 = percentile(2.5,ps)\n",
    "right_95 = percentile(97.5,ps)\n",
    "print(\"The 95% confidence interval is [\",left_95, right_95,\"]\")"
   ]
  },
  {
   "cell_type": "markdown",
   "metadata": {},
   "source": [
    "This 95% confidence interval does not contain 0.5.  This is consistent with us rejecting the null hypothesis (which has $p=0.5$) because its $p$-score was $<5$."
   ]
  },
  {
   "cell_type": "code",
   "execution_count": null,
   "metadata": {},
   "outputs": [],
   "source": []
  }
 ],
 "metadata": {
  "kernelspec": {
   "display_name": "Python 3",
   "language": "python",
   "name": "python3"
  },
  "language_info": {
   "codemirror_mode": {
    "name": "ipython",
    "version": 3
   },
   "file_extension": ".py",
   "mimetype": "text/x-python",
   "name": "python",
   "nbconvert_exporter": "python",
   "pygments_lexer": "ipython3",
   "version": "3.6.5"
  }
 },
 "nbformat": 4,
 "nbformat_minor": 2
}
