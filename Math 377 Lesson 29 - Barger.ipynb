{
 "cells": [
  {
   "cell_type": "code",
   "execution_count": 1,
   "metadata": {},
   "outputs": [],
   "source": [
    "from datascience import *\n",
    "import numpy as np\n",
    "from math import *\n",
    "from scipy import stats\n",
    "import matplotlib.pyplot as plt\n",
    "%matplotlib inline"
   ]
  },
  {
   "cell_type": "markdown",
   "metadata": {},
   "source": [
    "## Lesson 29: Maximum Likelihood Estimation"
   ]
  },
  {
   "cell_type": "markdown",
   "metadata": {},
   "source": [
    "Last lesson, we studied method of moments estimators. These estimators are obtained by setting the moments of a distribution equal to the sample moments obtained from an independent random sample, and then solving for the parameters of interest. As we saw, method of moments estimators are relatively easy to find, but don't always make sense (as in the case of $X\\sim \\textsf{Unif}(0,b)$.) \n",
    "\n",
    "Another way to estimate is by maximizing the likelihood function. First, we should introduce the likelihood function. The likelihood function, $L(\\theta \\mid \\textbf{x})$, is a function of $\\theta$ that is larger for likelier values of $\\theta$. Finding the value of $\\theta$ that maximizes this function yields a maximum likelihood estimator, or $\\hat{\\theta}_{ML}$. \n",
    "\n",
    "Let $X_1,X_2,...,X_n$ be a sequence of iid random variables with mass or density function $f(x;\\theta)$. The likelihood function is given by:\n",
    "\n",
    "$$\n",
    "L(\\theta\\mid \\textbf{x}) = \\prod_{i=1}^n f(x_i;\\theta)\n",
    "$$\n",
    "\n",
    "Often, it is easier to deal with the log of the likelihood function. This is because the log of a product is the sum of individual logs, which is often analytically \"nicer\". The log-likelihood function is denoted as $l(\\theta \\mid \\textbf{x})$ and is given by:\n",
    "\n",
    "$$\n",
    "l(\\theta\\mid\\textbf{x})=\\log \\prod_{i=1}^n f(x_i;\\theta) = \\sum_{i=1}^n \\log f(x_i;\\theta)\n",
    "$$\n",
    " "
   ]
  },
  {
   "cell_type": "markdown",
   "metadata": {},
   "source": [
    "### Example 1: Exponential Distribution\n",
    "\n",
    "Suppose $X_1,X_2,...,X_n$ is an iid sequence of random variables from the exponential distribution with unknown parameter $\\lambda$. I would like to obtain $\\hat{\\lambda}_{ML}$, the maximum likelihood estimate of $\\lambda$. "
   ]
  },
  {
   "cell_type": "markdown",
   "metadata": {},
   "source": [
    "Recall that if $X\\sim \\textsf{Exp}(\\lambda)$, then $f(x)=\\lambda e^{-\\lambda x}$. So,\n",
    "\n",
    "$$\n",
    "L(\\theta\\mid \\textbf{x}) = \\prod_{i=1}^n f(x_i;\\theta) = \\prod_{i=1}^n \\lambda e^{-\\lambda x_i} = \\lambda^n e^{-\\lambda \\sum x_i}\n",
    "$$\n",
    "\n",
    "Maximizing this through differentiation looks difficult. Let's consider the log-likelihood instead: \n",
    "\n",
    "$$\n",
    "l(\\theta\\mid \\textbf{x}) = n \\log \\lambda - \\lambda \\sum x_i\n",
    "$$\n",
    "\n",
    "This looks easier. Take the derivative with respect to $\\lambda$ and set to 0. Then solve for $\\lambda$. I leave this next step to you. How does your answer compare to $\\hat{\\lambda}_{MoM}$? "
   ]
  },
  {
   "cell_type": "markdown",
   "metadata": {},
   "source": [
    "Taking the derivative of $l(\\theta\\mid \\textbf{x})$ and setting equal to 0 gives  \n",
    "$\\frac n\\lambda- \\sum x_i = 0$  \n",
    "$\\lambda={n \\over \\sum x_i}$\n",
    "$$\n",
    "\\lambda={1 \\over \\bar{X}}\n",
    "$$\n",
    "This is equal to $\\hat{\\lambda}_{MoM}$."
   ]
  },
  {
   "cell_type": "markdown",
   "metadata": {},
   "source": [
    "### Example 2: Uniform Distribution\n",
    "\n",
    "Suppose $X_1,X_2,...,X_n$ is an iid sequence of random variables from the continuous uniform distribution on $0 \\leq X \\leq b$ with unknown parameter $b$. I would like to obtain $\\hat{b}_{ML}$, the maximum likelihood estimate of $b$. "
   ]
  },
  {
   "cell_type": "markdown",
   "metadata": {},
   "source": [
    "This one is trickier since the domain of $X$ depends on the parameter we are trying to estimate. So I will start you off with a hint. The pdf of $X$ is $f(x)=\\frac{1}{b}$ where $0\\leq x \\leq b$ and 0 otherwise. Another way to write this is with indicator functions:\n",
    "\n",
    "$$\n",
    "f(x)={1\\over b}I(x\\leq b)\n",
    "$$\n",
    "\n",
    "where $I(x\\leq b)$ is equal to 1 if $x \\leq b$ and 0 otherwise. "
   ]
  },
  {
   "cell_type": "markdown",
   "metadata": {},
   "source": [
    "$L(\\theta\\mid \\textbf{x}) = \\prod_{i=1}^n f(x_i;\\theta) = \\prod_{i=1}^n \\frac 1b I(x\\le b)$  \n",
    "$ = \\frac 1{b^n}$I(X_1,X_2,...,X_n all <b)   \n",
    "If any of the sampled $X_i>b$ then the term for that $i$ will be 0, making the whole product 0. This observation allows us to write  \n",
    "$$\n",
    "L(\\theta\\mid \\textbf{x}) = \\frac 1{b^n}I(max(X_i)\\le b)\n",
    "$$\n",
    "  \n",
    "We note that $L(\\theta\\mid \\textbf{x})$ is decreasing, so it will be maximized by picking the smallest possible $b$ where the condition $max(X_i)\\le b$ is true.  This is satisfied when\n",
    "$$\n",
    "b = max(X_i)\n",
    "$$\n"
   ]
  },
  {
   "cell_type": "markdown",
   "metadata": {},
   "source": [
    "### Example 3: Binomial Distribution\n",
    "\n",
    "Suppose $X_1,X_2,...,X_n$ is an iid sequence of random variables with the binomial distribution with 20 trials and unknown probability of success $\\pi$. Find the maximum likelihood estimate of $\\pi$. "
   ]
  },
  {
   "cell_type": "markdown",
   "metadata": {},
   "source": [
    "First let's remember that the binomial distribution has the probability mass function\n",
    "$$\n",
    "f(k,n,\\pi) = \\frac {n!}{k!(n-k)!}\\pi^k(1-\\pi)^{n-k}\n",
    "$$\n",
    "where $k$ is the number of successes in $n$ trials each of which has probability of success $\\pi$.  \n",
    "Here $n = 20$, so the MLE is  \n",
    "$$\n",
    "L(\\theta\\mid \\textbf{x}) = \\prod_{i=1}^n f(X_i;\\pi) = \\prod_{i=1}^n \\frac {20!}{X_i!(20-X_i)!}\\pi^{X_i}(1-\\pi)^{20-X_i}\n",
    "$$\n",
    "Taking this derivative looks hard so let's use the loglikeihood function\n",
    "$$\n",
    "l(\\pi\\mid \\textbf{x}) = constant + xln(\\pi) + (20-x)ln(1-\\pi)\n",
    "$$\n",
    "where $x = \\sum_i X_i$ is the total number of successes.  \n",
    "Taking $\\frac {d}{d\\pi}$ and setting  equal to 0 gives\n",
    "$$\n",
    "\\frac x\\pi - \\frac{20-x}{1-\\pi} = 0\n",
    "$$\n",
    "$$\n",
    "x(1-\\pi) = (20-x)\\pi\n",
    "$$\n",
    "$$\n",
    "\\pi = \\frac {x}{20}\n",
    "$$"
   ]
  },
  {
   "cell_type": "markdown",
   "metadata": {},
   "source": [
    "The maximum likelihood estimate is the total number of observed successes divided by the number of trials.  "
   ]
  }
 ],
 "metadata": {
  "kernelspec": {
   "display_name": "Python 3",
   "language": "python",
   "name": "python3"
  },
  "language_info": {
   "codemirror_mode": {
    "name": "ipython",
    "version": 3
   },
   "file_extension": ".py",
   "mimetype": "text/x-python",
   "name": "python",
   "nbconvert_exporter": "python",
   "pygments_lexer": "ipython3",
   "version": "3.6.5"
  }
 },
 "nbformat": 4,
 "nbformat_minor": 2
}
