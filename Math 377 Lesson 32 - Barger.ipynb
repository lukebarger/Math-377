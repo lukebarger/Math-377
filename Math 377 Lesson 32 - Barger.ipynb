{
 "cells": [
  {
   "cell_type": "code",
   "execution_count": 2,
   "metadata": {},
   "outputs": [],
   "source": [
    "from datascience import *\n",
    "import numpy as np\n",
    "from math import *\n",
    "from scipy import stats\n",
    "import matplotlib.pyplot as plt\n",
    "%matplotlib inline"
   ]
  },
  {
   "cell_type": "markdown",
   "metadata": {},
   "source": [
    "## Lesson 32: Likelihood Ratio Tests"
   ]
  },
  {
   "cell_type": "markdown",
   "metadata": {},
   "source": [
    "Last time, we introduced Likelihood Ratio tests. Recall that the point of a likelihood ratio test is to compare the likelihood function under a hypothesized value of the parameter with the liklihood function at its maximum. Instead of looking at the ratio $\\Lambda$ itself, we often consider $-2\\log \\Lambda$ instead, since it has a handy distribution. \n",
    "\n",
    "### Example 1: Exponential Distribution\n",
    "\n",
    "Suppose $X_1,X_2,...,X_n$ is an iid sequence of random variables from the exponential distribution with unknown parameter $\\lambda$. Recall that the maximum likelihood estimate of $\\lambda$ is $1\\over\\bar{X}$. We collect a random sample of size 20 and want to test the hypothesis $H_0: \\lambda = 3$ vs $H_1: \\lambda \\neq 3$. Using the data in the python box below, conduct a likelihood ratio test on this hypothesis.  "
   ]
  },
  {
   "cell_type": "code",
   "execution_count": 75,
   "metadata": {},
   "outputs": [],
   "source": [
    "my_data=np.array([0.18,0.277,0.105,0.126,0.225,0.026,0.123,0.423,0.006,0.281,0.050,0.692,0.105,0.275,0.346,0.079,0.045,0.222,0.063,0.281])"
   ]
  },
  {
   "cell_type": "code",
   "execution_count": 76,
   "metadata": {},
   "outputs": [
    {
     "name": "stdout",
     "output_type": "stream",
     "text": [
      "The maximum likelihood esitimator gives 5.089058524173028\n"
     ]
    }
   ],
   "source": [
    "# the maximum likelihood\n",
    "lam_ML = 1/np.mean(my_data)\n",
    "print('The maximum likelihood esitimator gives',lam_ML)\n",
    "#LR = -2*np.log(3/lam_ML)\n",
    "#print('The likelihood ratio -2log(Lam)=',LR)"
   ]
  },
  {
   "cell_type": "markdown",
   "metadata": {},
   "source": [
    "Remember that the likelihood function for the exponential distribution is\n",
    "$$\n",
    "L(\\theta\\mid \\textbf{x}) = \\prod_{i=1}^n f(x_i;\\theta) = \\prod_{i=1}^n \\lambda e^{-\\lambda x_i} = \\lambda^n e^{-\\lambda \\sum x_i}\n",
    "$$\n",
    "We will use this to calculate $-2\\log \\Lambda$"
   ]
  },
  {
   "cell_type": "code",
   "execution_count": 77,
   "metadata": {},
   "outputs": [
    {
     "name": "stdout",
     "output_type": "stream",
     "text": [
      "L_H0 =  26429.755940265637\n",
      "L_ML =  279807.4462046449\n",
      "-2log(Lambda) = 4.7192223601884615\n"
     ]
    }
   ],
   "source": [
    "def L_exp(lam,x):\n",
    "    return lam**np.size(x)*np.e**(-lam*np.sum(x))\n",
    "    \n",
    "# Likelihood for lambda = 3\n",
    "L_H0 = L_exp(3,my_data)\n",
    "print('L_H0 = ',L_H0)\n",
    "# Likelihood for lambda_ML\n",
    "L_ML = L_exp(lam_ML,my_data)\n",
    "print('L_ML = ',L_ML)\n",
    "LR = -2*np.log(L_H0/L_ML)\n",
    "print('-2log(Lambda) =',LR)"
   ]
  },
  {
   "cell_type": "code",
   "execution_count": 83,
   "metadata": {},
   "outputs": [
    {
     "data": {
      "text/plain": [
       "0.029827229194775106"
      ]
     },
     "execution_count": 83,
     "metadata": {},
     "output_type": "execute_result"
    }
   ],
   "source": [
    "# this is a two sided test so we consider values more extreme in either direction\n",
    "stats.chi2.sf(LR,1)"
   ]
  },
  {
   "cell_type": "markdown",
   "metadata": {},
   "source": [
    "About 3% of the time you will get a more extreme value than this, which means we will reject the null hypothesis."
   ]
  },
  {
   "cell_type": "markdown",
   "metadata": {},
   "source": [
    "#### Power\n",
    "\n",
    "Suppose that the true value of $\\lambda$ is 5. Let's determine the power of this test. Let $n=20$. Then determine the power if $n=50$. Remember, power is the probability of correctly rejecting the null hypothesis. "
   ]
  },
  {
   "cell_type": "markdown",
   "metadata": {},
   "source": [
    "First, find what value of $-2 \\log \\Lambda$ would lead you to reject $H_0$. This is sometimes called the critical value. "
   ]
  },
  {
   "cell_type": "code",
   "execution_count": 89,
   "metadata": {},
   "outputs": [
    {
     "data": {
      "text/plain": [
       "3.8414588206941285"
      ]
     },
     "execution_count": 89,
     "metadata": {},
     "output_type": "execute_result"
    }
   ],
   "source": [
    "CV_exp = stats.chi2.isf(.05,1)\n",
    "CV_exp"
   ]
  },
  {
   "cell_type": "code",
   "execution_count": 91,
   "metadata": {},
   "outputs": [
    {
     "data": {
      "text/plain": [
       "3.841458820694124"
      ]
     },
     "execution_count": 91,
     "metadata": {},
     "output_type": "execute_result"
    }
   ],
   "source": [
    "# alternately...\n",
    "stats.chi2.ppf(0.95,1)"
   ]
  },
  {
   "cell_type": "markdown",
   "metadata": {},
   "source": [
    "Next, obtain the power. Obtain a sample of size 20 from the true population and obtain the value of $-2\\log \\Lambda$ for this sample. Repeat many times and determine how often you reject the null hypothesis. "
   ]
  },
  {
   "cell_type": "code",
   "execution_count": 96,
   "metadata": {},
   "outputs": [],
   "source": [
    "n=20\n",
    "\n",
    "trials = 5000\n",
    "tests = [];\n",
    "for _ in np.arange(trials):\n",
    "    samp = stats.expon.rvs(scale=1/5,size=n)\n",
    "    # the maximum likelihood\n",
    "    lam_ML = 1/np.mean(samp)\n",
    "    # Likelihood for lambda = 3\n",
    "    L_H0 = L_exp(3,samp)\n",
    "    # Likelihood for lambda_ML\n",
    "    L_ML = L_exp(lam_ML,samp)\n",
    "    LR = -2*np.log(L_H0/L_ML)\n",
    "    # this is a two sided test so we consider values more extreme in either direction\n",
    "    tests = np.append(tests,LR)"
   ]
  },
  {
   "cell_type": "code",
   "execution_count": 97,
   "metadata": {},
   "outputs": [
    {
     "data": {
      "text/plain": [
       "0.609"
      ]
     },
     "execution_count": 97,
     "metadata": {},
     "output_type": "execute_result"
    }
   ],
   "source": [
    "np.sum(tests>=CV_exp)/trials"
   ]
  },
  {
   "cell_type": "markdown",
   "metadata": {},
   "source": [
    "We will only reject this about 60% of the time."
   ]
  },
  {
   "cell_type": "markdown",
   "metadata": {},
   "source": [
    "Repeat for a sample size of 50. What do you expect to happen to power? "
   ]
  },
  {
   "cell_type": "code",
   "execution_count": 107,
   "metadata": {},
   "outputs": [],
   "source": [
    "n=50\n",
    "\n",
    "trials = 5000\n",
    "tests = [];\n",
    "for _ in np.arange(trials):\n",
    "    samp = stats.expon.rvs(scale=1/5,size=n)\n",
    "    # the maximum likelihood\n",
    "    lam_ML = 1/np.mean(samp)\n",
    "    # Likelihood for lambda = 3\n",
    "    L_H0 = L_exp(3,samp)\n",
    "    # Likelihood for lambda_ML\n",
    "    L_ML = L_exp(lam_ML,samp)\n",
    "    LR = -2*np.log(L_H0/L_ML)\n",
    "    # this is a two sided test so we consider values more extreme in either direction\n",
    "    tests = np.append(tests,LR)"
   ]
  },
  {
   "cell_type": "code",
   "execution_count": 108,
   "metadata": {},
   "outputs": [
    {
     "data": {
      "text/plain": [
       "0.955"
      ]
     },
     "execution_count": 108,
     "metadata": {},
     "output_type": "execute_result"
    }
   ],
   "source": [
    "np.sum(tests>=CV_exp)/trials"
   ]
  },
  {
   "cell_type": "markdown",
   "metadata": {},
   "source": [
    "Now it has increased to 95%."
   ]
  },
  {
   "cell_type": "markdown",
   "metadata": {},
   "source": [
    "### A Different Test\n",
    "\n",
    "We've explored hypothesis tests in this class before. Taking advantage of our computing power, we don't have to rely on test statistics with asymptotic distributions. Let's conduct a more direct hypothesis test using simulation. Recall:\n",
    "\n",
    "$$\n",
    "H_0: \\lambda = 3\n",
    "$$\n",
    "\n",
    "$$\n",
    "H_1: \\lambda \\neq 3\n",
    "$$\n",
    "\n",
    "Pick a different test statistic. Obtain an empirical distribution of that test statistic under $H_0$. Next, find the $p$-value by determining how often this test statistic is at or further away from the test statistic derived from the sample. Remember that this is a two-sided test. "
   ]
  },
  {
   "cell_type": "code",
   "execution_count": 149,
   "metadata": {},
   "outputs": [
    {
     "data": {
      "image/png": "[encoded data removed]",
      "text/plain": [
       "<Figure size 432x288 with 1 Axes>"
      ]
     },
     "metadata": {},
     "output_type": "display_data"
    },
    {
     "data": {
      "text/plain": [
       "0.9812"
      ]
     },
     "execution_count": 149,
     "metadata": {},
     "output_type": "execute_result"
    }
   ],
   "source": [
    "# under the null hypothesis lambda is 3.  We will use sample mean as our test statistic\n",
    "trials = 10000\n",
    "ts = []\n",
    "for _ in np.arange(trials):\n",
    "    samp = stats.expon.rvs(scale=1/3,size=20)\n",
    "    this_ts = np.mean(samp)\n",
    "    ts = np.append(ts,this_ts)\n",
    "\n",
    "plt.hist(ts)\n",
    "plt.show()\n",
    "\n",
    "np.mean(ts>=np.mean(my_data))\n",
    "    "
   ]
  },
  {
   "cell_type": "markdown",
   "metadata": {},
   "source": [
    "How did the $p$-value compare to the LRT $p$-value? I wonder how the power of this test compares to our LRT. "
   ]
  },
  {
   "cell_type": "markdown",
   "metadata": {},
   "source": [
    "#### Power\n",
    "\n",
    "Let's figure out the power of this test. First, determine for what values of the test statistic would lead us to reject $H_0$. These values can be referred to as your rejection region. "
   ]
  },
  {
   "cell_type": "code",
   "execution_count": 150,
   "metadata": {},
   "outputs": [],
   "source": [
    "# this is a two-sided test\n",
    "req_reject_p_hi = percentile(97.5,ts)\n",
    "req_reject_p_lo = percentile(2.5,ts)"
   ]
  },
  {
   "cell_type": "markdown",
   "metadata": {},
   "source": [
    "Now, determine the power of this test. Like in the LRT case, obtain a sample of size 20 and obtain the test statistic. Repeat many times and see how often your test statistic is in your rejection region. "
   ]
  },
  {
   "cell_type": "code",
   "execution_count": 151,
   "metadata": {},
   "outputs": [
    {
     "data": {
      "text/plain": [
       "0.569"
      ]
     },
     "execution_count": 151,
     "metadata": {},
     "output_type": "execute_result"
    }
   ],
   "source": [
    "trials = 10000\n",
    "ts = []\n",
    "for _ in np.arange(trials):\n",
    "    samp = stats.expon.rvs(scale=1/5,size=20)\n",
    "    this_ts = np.mean(samp)\n",
    "    ts = np.append(ts,this_ts)\n",
    "    \n",
    "np.mean(ts>=req_reject_p_hi) + np.mean(ts<=req_reject_p_lo)"
   ]
  },
  {
   "cell_type": "markdown",
   "metadata": {},
   "source": [
    "Repeat for a sample size of 50. Note that you will have to obtain new critical values in order to do this.  "
   ]
  },
  {
   "cell_type": "code",
   "execution_count": 152,
   "metadata": {},
   "outputs": [
    {
     "data": {
      "text/plain": [
       "0.9391"
      ]
     },
     "execution_count": 152,
     "metadata": {},
     "output_type": "execute_result"
    }
   ],
   "source": [
    "trials = 10000\n",
    "ts = []\n",
    "for _ in np.arange(trials):\n",
    "    samp = stats.expon.rvs(scale=1/3,size=50)\n",
    "    this_ts = np.mean(samp)\n",
    "    ts = np.append(ts,this_ts)\n",
    "\n",
    "req_reject_p_hi = percentile(97.5,ts)\n",
    "req_reject_p_lo = percentile(2.5,ts)\n",
    "\n",
    "ts = []\n",
    "for _ in np.arange(trials):\n",
    "    samp = stats.expon.rvs(scale=1/5,size=50)\n",
    "    this_ts = np.mean(samp)\n",
    "    ts = np.append(ts,this_ts)\n",
    "    \n",
    "np.mean(ts>=req_reject_p_hi)+ np.mean(ts<=req_reject_p_lo)"
   ]
  }
 ],
 "metadata": {
  "kernelspec": {
   "display_name": "Python 3",
   "language": "python",
   "name": "python3"
  },
  "language_info": {
   "codemirror_mode": {
    "name": "ipython",
    "version": 3
   },
   "file_extension": ".py",
   "mimetype": "text/x-python",
   "name": "python",
   "nbconvert_exporter": "python",
   "pygments_lexer": "ipython3",
   "version": "3.6.5"
  }
 },
 "nbformat": 4,
 "nbformat_minor": 2
}
